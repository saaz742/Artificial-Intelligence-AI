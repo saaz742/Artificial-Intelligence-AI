{
 "cells": [
  {
   "cell_type": "markdown",
   "metadata": {},
   "source": [
    "<div align=center>\n",
    "\t\t\n",
    "<p></p>\n",
    "<p></p>\n",
    "<font size=5>\n",
    "In the Name of God\n",
    "<font/>\n",
    "<p></p>\n",
    " <br/>\n",
    "    <br/>\n",
    "    <br/>\n",
    "<font color=#FF7500>\n",
    "Sharif University of Technology - Department of Computer Engineering\n",
    "</font>\n",
    "<p></p>\n",
    "<font color=blue>\n",
    "Artifical Intelligence - Dr. Mohammad Hossein Rohban\n",
    "</font>\n",
    "<br/>\n",
    "<br/>\n",
    "Fall 2021\n",
    "\n",
    "</div>\n",
    "\n",
    "<hr/>\n",
    "\t\t<div align=center>\n",
    "\t\t    <font color=red size=6>\n",
    "\t\t\t    <br />\n",
    "Practical Assignment 2\n",
    "            \t<br/>\n",
    "\t\t\t</font>\n",
    "    <br/>\n",
    "    <br/>\n",
    "<font size=4>\n",
    "\t\t\t<br/><br/>\n",
    "Deadline:  Aban 27th\n",
    "                <br/><b>\n",
    "              Cheating is Strongly Prohibited\n",
    "                </b><br/><br/>\n",
    "                <font color=red>\n",
    "Please run all the cells.\n",
    "     </font>\n",
    "</font>\n",
    "                <br/>\n",
    "    </div>"
   ]
  },
  {
   "cell_type": "markdown",
   "metadata": {},
   "source": [
    "# Personal Data"
   ]
  },
  {
   "cell_type": "code",
   "execution_count": 118,
   "metadata": {
    "collectable": true,
    "execution": {
     "iopub.execute_input": "2021-10-01T16:01:36.762477Z",
     "iopub.status.busy": "2021-10-01T16:01:36.762155Z",
     "iopub.status.idle": "2021-10-01T16:01:36.764025Z",
     "shell.execute_reply": "2021-10-01T16:01:36.763754Z"
    }
   },
   "outputs": [],
   "source": [
    "# Set your student number\n",
    "student_number = 98170668\n",
    "Name = 'sara'\n",
    "Last_Name = 'azarnoush'"
   ]
  },
  {
   "cell_type": "markdown",
   "metadata": {},
   "source": [
    "# Rules\n",
    "- You are not allowed to add or remove cells. You **must use the provided space to write your code**. If you don't follow this rule, **your Practical Assignment won't be graded**. \n",
    "- There is one cell for your custom functions (if you need any) at the beginning of each question. Please note that this jupyter file might be broken down into 3 jupyter notebooks for easier grading, so you **must write your custom functions in the correct cell**.\n",
    "- By running the cell below, you can see if your jupyter file is accepted or not. This cell will also **generate a python file which you'll have to upload to Quera** (as well as your jupyter file). The python file will later be validated and if the code in both files doesn't match, **your Practical Assignment won't be graded**.\n",
    "- This assignment is due Aban 27th 23:59:59. you can use up to 10 grace days for this assignment and the hard deadline is Azar 7th 23:59:59."
   ]
  },
  {
   "cell_type": "code",
   "execution_count": 119,
   "metadata": {},
   "outputs": [
    {
     "name": "stdout",
     "output_type": "stream",
     "text": [
      "your jupyter file will be graded\n"
     ]
    }
   ],
   "source": [
    "# remember to save your jupyter file before running this script\n",
    "from Helper_codes.validator import *\n",
    "\n",
    "python_code = extract_python(\"./questions.ipynb\")\n",
    "with open(f'python_code_{student_number}.py', 'w') as file:\n",
    "    file.write(python_code)"
   ]
  },
  {
   "cell_type": "markdown",
   "metadata": {},
   "source": [
    "# Q1 (30 Points + 5 Extra Points)"
   ]
  },
  {
   "cell_type": "markdown",
   "metadata": {},
   "source": [
    "<font size=4>\n",
    "Author: Reza Amini\n",
    "\t\t\t<br/>\n",
    "                <font color=red>\n",
    "Please run all the cells.\n",
    "     </font>\n",
    "</font>\n",
    "                <br/>\n",
    "    </div>"
   ]
  },
  {
   "cell_type": "markdown",
   "metadata": {},
   "source": [
    "## Libraries"
   ]
  },
  {
   "cell_type": "code",
   "execution_count": 120,
   "metadata": {
    "collectable": true
   },
   "outputs": [],
   "source": [
    "import numpy as np\n",
    "import math\n",
    "from typing import Tuple\n",
    "from matplotlib import pyplot as plt"
   ]
  },
  {
   "cell_type": "markdown",
   "metadata": {},
   "source": [
    "<div>\n",
    "\t<font size=3>\n",
    "        <hr/>\n",
    "            In this part of the question, we want to implement the functions and draw diagrams and discuss about the convexity of functions\n",
    "           <hr/>\n",
    "    </font>\n",
    "</div>"
   ]
  },
  {
   "cell_type": "markdown",
   "metadata": {},
   "source": [
    "## Functions"
   ]
  },
  {
   "cell_type": "markdown",
   "metadata": {},
   "source": [
    "a)\n",
    "$f_1(x) = \\frac{x^2 cos(\\frac{x}{10}) - x}{100} \\quad $ where $\\quad x \\in [80, 110]$\n",
    "<br/>\n",
    "b)\n",
    "$f_2(x) = \\log (\\sqrt{sin \\frac{x}{20}}) \\quad $ where $\\quad x \\in [1, 60]$\n",
    "<br/>\n",
    "c)\n",
    "$f_3(x) = \\log (\\cos(x) + \\frac{45}{x}) \\quad $ where $\\quad x \\in [1, 45]$"
   ]
  },
  {
   "cell_type": "markdown",
   "metadata": {},
   "source": [
    "<div>\n",
    "    <font size=3>\n",
    "In the first step, implement the functions.\n",
    "     </font>\n",
    "</div>"
   ]
  },
  {
   "cell_type": "code",
   "execution_count": 121,
   "metadata": {
    "collectable": true
   },
   "outputs": [],
   "source": [
    "def f_1(x):\n",
    "    return  x ** 2 * np.cos(x/10) - x / 100"
   ]
  },
  {
   "cell_type": "code",
   "execution_count": 122,
   "metadata": {
    "collectable": true
   },
   "outputs": [],
   "source": [
    "def f_2(x):\n",
    "      return  np.log(np.sqrt(np.sin(x/20)))   "
   ]
  },
  {
   "cell_type": "code",
   "execution_count": 123,
   "metadata": {
    "collectable": true
   },
   "outputs": [],
   "source": [
    "def f_3(x):\n",
    "      return np.log(np.cos(x)+45/x)"
   ]
  },
  {
   "cell_type": "markdown",
   "metadata": {},
   "source": [
    "<div>\n",
    "    <font size=3>\n",
    "    Now implement a function to plot the mathematical functions\n",
    "     </font>\n",
    "</div>"
   ]
  },
  {
   "cell_type": "code",
   "execution_count": 124,
   "metadata": {
    "collectable": true
   },
   "outputs": [],
   "source": [
    "def draw(func, x_range):\n",
    "    f = func(x_range)\n",
    "    plt.plot(x_range, f)\n",
    "    plt.show()\n",
    "    pass"
   ]
  },
  {
   "cell_type": "code",
   "execution_count": 125,
   "metadata": {},
   "outputs": [
    {
     "data": {
      "image/png": "[encoded data removed]",
      "text/plain": [
       "<Figure size 432x288 with 1 Axes>"
      ]
     },
     "metadata": {
      "needs_background": "light"
     },
     "output_type": "display_data"
    }
   ],
   "source": [
    "draw(f_1, np.arange(80, 110 + 1))"
   ]
  },
  {
   "cell_type": "code",
   "execution_count": 126,
   "metadata": {},
   "outputs": [
    {
     "data": {
      "image/png": "[encoded data removed]",
      "text/plain": [
       "<Figure size 432x288 with 1 Axes>"
      ]
     },
     "metadata": {
      "needs_background": "light"
     },
     "output_type": "display_data"
    }
   ],
   "source": [
    "draw(f_2, np.arange(1, 60 + 1))"
   ]
  },
  {
   "cell_type": "code",
   "execution_count": 127,
   "metadata": {},
   "outputs": [
    {
     "data": {
      "image/png": "[encoded data removed]",
      "text/plain": [
       "<Figure size 432x288 with 1 Axes>"
      ]
     },
     "metadata": {
      "needs_background": "light"
     },
     "output_type": "display_data"
    }
   ],
   "source": [
    "draw(f_3, np.arange(1, 45 + 1))"
   ]
  },
  {
   "cell_type": "markdown",
   "metadata": {},
   "source": [
    "<div>\n",
    "    <font size=3>\n",
    "    Discuss the Convexity of each function according to the diagrams\n",
    "     </font>\n",
    "</div>"
   ]
  },
  {
   "cell_type": "markdown",
   "metadata": {},
   "source": [
    "<font color=blue>\n",
    "\n",
    "\n",
    "f1 is convex: for each two points in its domain connector line between them is above the function.\n",
    "\n",
    "f2 isn't convex: for each two points in its domain connector line between them is under the function.\n",
    "\n",
    "f3 isn't convex: there are two points in its domain connector line between them is under the function.\n",
    "</font>"
   ]
  },
  {
   "cell_type": "markdown",
   "metadata": {},
   "source": [
    "<div>\n",
    "    <font size=3>\n",
    "what method do you suggest to find the maximum in the second function?\n",
    "     </font>\n",
    "</div>"
   ]
  },
  {
   "cell_type": "markdown",
   "metadata": {},
   "source": [
    "<font color=blue>\n",
    "in max and min point derivative is 0 so if we find x, df2(x)/x = 0 x is min or max and f2 is concave so its max\n",
    "</font>"
   ]
  },
  {
   "cell_type": "markdown",
   "metadata": {},
   "source": [
    "<div>\n",
    "    <font size=3>\n",
    "        <hr/>\n",
    "        <ul>\n",
    "            In this part, we want to obtain a minimum of one of the above functions with the gradiant descent algorithm\n",
    "        </ul>  \n",
    "        <hr/>\n",
    "    </font>\n",
    "</div>"
   ]
  },
  {
   "cell_type": "markdown",
   "metadata": {},
   "source": [
    "## Gradiant descent"
   ]
  },
  {
   "cell_type": "markdown",
   "metadata": {},
   "source": [
    "<div>\n",
    "    <font size=3>\n",
    "    Complete gradiant descent function and calculate the minimum of function (a).\n",
    "     </font>\n",
    "</div>"
   ]
  },
  {
   "cell_type": "code",
   "execution_count": 128,
   "metadata": {
    "collectable": true
   },
   "outputs": [],
   "source": [
    "def gradiant_descent(func, initial_point: float, learning_rate: float, max_iterations: int):\n",
    "    x = initial_point\n",
    "    for i in range(max_iterations):\n",
    "        y = (func(np.add(x, 10e-10))- func(x))/ 10e-10\n",
    "        #y = gr(func,0,[x])\n",
    "        x -= learning_rate * y\n",
    "    return x"
   ]
  },
  {
   "cell_type": "code",
   "execution_count": 129,
   "metadata": {},
   "outputs": [
    {
     "data": {
      "text/plain": [
       "36.43657764591934"
      ]
     },
     "execution_count": 129,
     "metadata": {},
     "output_type": "execute_result"
    }
   ],
   "source": [
    "gradiant_descent(\n",
    "    func=f_1, \n",
    "    initial_point=np.random.uniform(80, 110), \n",
    "    learning_rate=0.05, \n",
    "    max_iterations=1000\n",
    ")"
   ]
  },
  {
   "cell_type": "markdown",
   "metadata": {},
   "source": [
    "<div>\n",
    "    <font size=3>\n",
    "In the last part, we want to investigate the effect of the learning rate hyperparameter on the gradiant descent algorithm with a new function     \n",
    "    </font>\n",
    "</div>"
   ]
  },
  {
   "cell_type": "markdown",
   "metadata": {},
   "source": [
    "## Function"
   ]
  },
  {
   "cell_type": "markdown",
   "metadata": {},
   "source": [
    "$f(x_1, x_2) = 2x_1^2 + 3x_2^2 - 4x_1x_2 - 50x + 6y$"
   ]
  },
  {
   "cell_type": "code",
   "execution_count": 130,
   "metadata": {
    "collectable": true
   },
   "outputs": [],
   "source": [
    "def f(x_1, x_2):\n",
    "  return 2*x_1**2 + 3*x_2**2 - 4*x_1*x_2 - 50*x_1 + 6*x_2"
   ]
  },
  {
   "cell_type": "markdown",
   "metadata": {},
   "source": [
    "<div>\n",
    "    <font size=3>\n",
    "Implement gradiant descent function for two-dimensional functions, in such a way that it gives sequence of x_1 and x_2 in the output ()\n",
    "    </font>\n",
    "</div>"
   ]
  },
  {
   "cell_type": "code",
   "execution_count": 131,
   "metadata": {
    "collectable": true
   },
   "outputs": [],
   "source": [
    "def gradiant_descent(func, initial_point: Tuple, learning_rate: float, threshold: float, max_iterations: int):\n",
    "    x_1_sequence = [initial_point[0]]\n",
    "    x_2_sequence = [initial_point[1]]\n",
    "    iter = 0\n",
    "    while  iter < max_iterations and x_1_sequence[-1] <= threshold and x_2_sequence[-1] <= threshold:\n",
    "        x_1, x_2 = update_points(func, x_1_sequence[-1], x_2_sequence[-1], learning_rate)\n",
    "        x_1_sequence.append(x_1) \n",
    "        x_2_sequence.append(x_2)\n",
    "        iter +=1\n",
    "    return x_1_sequence, x_2_sequence\n",
    "\n",
    "def update_points(func, x_1, x_2, learning_rate):\n",
    "    y = func(x_1, x_2)\n",
    "    y1 = (func(np.add(x_1, 10e-10) , x_2)- y)/ 10e-10\n",
    "    y2 = (func(x_1, np.add(x_2, 10e-10))- y)/ 10e-10\n",
    "    x_1 -= learning_rate*y1\n",
    "    x_2 -= learning_rate*y2\n",
    "    return x_1, x_2 "
   ]
  },
  {
   "cell_type": "code",
   "execution_count": 132,
   "metadata": {},
   "outputs": [],
   "source": [
    "def draw_points_sequence(func, x_1_sequence, x_2_sequence):\n",
    "    X1, X2 = np.meshgrid(np.linspace(-100.0, 100.0, 100), np.linspace(-100.0, 100.0, 100))\n",
    "    Y = func(X1, X2)\n",
    "    cp = plt.contour(X1, X2, Y, colors='black', linestyles='dashed', linewidths=1)\n",
    "    plt.clabel(cp, inline=1, fontsize=10)\n",
    "    cp = plt.contourf(X1, X2, Y, )\n",
    "    plt.xlabel('X1')\n",
    "    plt.ylabel('X2')\n",
    "    plt.scatter(x_1_sequence, x_2_sequence, s=10, c=\"y\")\n",
    "    plt.show()"
   ]
  },
  {
   "cell_type": "markdown",
   "metadata": {},
   "source": [
    "<div>\n",
    "    <font size=3>\n",
    "    Run the gradiant descent algorithm for each of the learning rate values and use the above function to draw diagram\n",
    "    </font>\n",
    "</div>"
   ]
  },
  {
   "cell_type": "code",
   "execution_count": 133,
   "metadata": {},
   "outputs": [],
   "source": [
    "initial_point = (-100, 100)\n",
    "learning_rates = [0.01, 0.05, 0.19, 0.4]\n",
    "threshold = 100\n",
    "max_iterations = 1000"
   ]
  },
  {
   "cell_type": "code",
   "execution_count": 134,
   "metadata": {
    "collectable": true
   },
   "outputs": [
    {
     "data": {
      "image/png": "[encoded data removed]",
      "text/plain": [
       "<Figure size 432x288 with 1 Axes>"
      ]
     },
     "metadata": {
      "needs_background": "light"
     },
     "output_type": "display_data"
    }
   ],
   "source": [
    "x_1_sequence, x_2_sequence = gradiant_descent(f, initial_point, learning_rates[0], threshold, max_iterations)\n",
    "draw_points_sequence(f, x_1_sequence, x_2_sequence)"
   ]
  },
  {
   "cell_type": "code",
   "execution_count": 135,
   "metadata": {
    "collectable": true
   },
   "outputs": [
    {
     "data": {
      "image/png": "[encoded data removed]",
      "text/plain": [
       "<Figure size 432x288 with 1 Axes>"
      ]
     },
     "metadata": {
      "needs_background": "light"
     },
     "output_type": "display_data"
    }
   ],
   "source": [
    "x_1_sequence, x_2_sequence = gradiant_descent(f, initial_point, learning_rates[1], threshold, max_iterations)\n",
    "draw_points_sequence(f, x_1_sequence, x_2_sequence)"
   ]
  },
  {
   "cell_type": "code",
   "execution_count": 136,
   "metadata": {
    "collectable": true
   },
   "outputs": [
    {
     "data": {
      "image/png": "[encoded data removed]",
      "text/plain": [
       "<Figure size 432x288 with 1 Axes>"
      ]
     },
     "metadata": {
      "needs_background": "light"
     },
     "output_type": "display_data"
    }
   ],
   "source": [
    "x_1_sequence, x_2_sequence = gradiant_descent(f, initial_point, learning_rates[2], threshold, max_iterations)\n",
    "draw_points_sequence(f, x_1_sequence, x_2_sequence)"
   ]
  },
  {
   "cell_type": "code",
   "execution_count": 137,
   "metadata": {
    "collectable": true
   },
   "outputs": [
    {
     "data": {
      "image/png": "[encoded data removed]",
      "text/plain": [
       "<Figure size 432x288 with 1 Axes>"
      ]
     },
     "metadata": {
      "needs_background": "light"
     },
     "output_type": "display_data"
    }
   ],
   "source": [
    "x_1_sequence, x_2_sequence = gradiant_descent(f, initial_point, learning_rates[3], threshold, max_iterations)\n",
    "draw_points_sequence(f, x_1_sequence, x_2_sequence)"
   ]
  },
  {
   "cell_type": "markdown",
   "metadata": {},
   "source": [
    "<div>\n",
    "    <font size=3>\n",
    "    explain your result comprehensively from the charts, \n",
    "    </font>\n",
    "</div>"
   ]
  },
  {
   "cell_type": "markdown",
   "metadata": {
    "collectable": true
   },
   "source": [
    "<font color=blue>\n",
    "except learning_rate, all inputs are the same. when learning_rate increase points also increase and the result in function become more scattered \n",
    "</font>"
   ]
  },
  {
   "cell_type": "markdown",
   "metadata": {},
   "source": [
    "# Q2. CSPs (30 Points)"
   ]
  },
  {
   "cell_type": "markdown",
   "metadata": {},
   "source": [
    "<font size=4>\n",
    "     Author: Alireza Tajmirriahi\n",
    "     <br/>\n",
    "     <font color=red>\n",
    "     Please run all the cells.\n",
    "     </font>\n",
    "</font>\n",
    "<br/>"
   ]
  },
  {
   "cell_type": "markdown",
   "metadata": {},
   "source": [
    "As students are preparing for midterm exams and the virtual exam days are gone and forgotten, each department is struggling to select at least one hall out of $N$ halls in the university to hold their exams. But here's the thing:\n",
    "  - Students from each department aren't really fond of sitting next to students from other departments and must be separated (for example CE students and CS students must not share the same hall for exams).\n",
    "  - Each department likes certain halls and won't hold their exams in other halls.\n",
    "  - Sadly, the exit doors in some of the halls are stuck and the hard working staff have provided some routes so that the students from specific halls need to walk through the other hall and exit after the examination. And because they would like to prevent cheating as much as possible, students in such halls cannot be from the same department.\n",
    "Check out the example below to fully understand the situation."
   ]
  },
  {
   "cell_type": "markdown",
   "metadata": {},
   "source": [
    "## Example\n",
    "Look at this picture carefully.<br>\n",
    "<img src=\"Images/CSP_example.png\" width=\"400\"/>\n",
    "  - There are $6$ halls and $3$ departments.\n",
    "  - The halls which the deparments like are indicated (for example, CE exams can be held only at Hall 1, 4 and 6).\n",
    "  - Students from Hall 1 should exit using the doors in Hall 2 (Note: they all exit there and won't continue to Hall 3). In this case, EE students cannot be in both Hall 1 and 2 (But of course, it's okay for them to be in Hall 1 and 3)."
   ]
  },
  {
   "cell_type": "markdown",
   "metadata": {},
   "source": [
    "## Note\n",
    "  - You _must_ implement and use AC-3 algorithm.\n",
    "  - You will _probably_ need to utilize the heuristic algorithms you have learned (e.g. MRV and LCV) or consider nearly tree-structured graphs approach in order to pass all tests in an appropriate time."
   ]
  },
  {
   "cell_type": "markdown",
   "metadata": {},
   "source": [
    "## Input\n",
    "  - The first line consists of $N$ (count of halls) and $M$ (count of departments).\n",
    "  - In the following $M$ lines, the $i$ th line ($1 \\le i \\le M$) is a list of preferred halls for the $i$ th department (separated by space).\n",
    "  - In the next line, $E$, the total number of exit constraints (edges in the previous graph) are given.\n",
    "  - in each of the following $E$ lines, a pair of hall numbers (separated by space) is given (reminder: the direction is important).\n",
    "$$1 \\le N \\le 50$$\n",
    "$$1 \\le M \\le 50$$\n",
    "\n",
    "### Sample Input\n",
    "This sample describes the previous example (CE=1, EE=2, ME=3).\n",
    "```\n",
    "6 3\n",
    "1 4 6\n",
    "1 2 3 5 6\n",
    "3 4 5\n",
    "5\n",
    "1 2\n",
    "2 3\n",
    "3 4\n",
    "3 5\n",
    "3 6\n",
    "```"
   ]
  },
  {
   "cell_type": "markdown",
   "metadata": {},
   "source": [
    "## Output\n",
    "In the only line, print:\n",
    "  - list of one appropriate assignment ordered by hall number (separated by space).\n",
    "  - `NO` if there isn't.\n",
    "\n",
    "### Sample Output\n",
    "One possible solution to the example above is {Hall1=CE, Hall2=EE , Hall3=ME, Hall4=CE, Hall5=EE, Hall6=EE}. So:\n",
    "```\n",
    "1 2 3 1 2 2\n",
    "```\n",
    "In another example, If Hall3 was not an option for ME, then the answer would be:\n",
    "```\n",
    "NO\n",
    "```\n",
    "Because then hall 2 or 3 would be empty."
   ]
  },
  {
   "cell_type": "markdown",
   "metadata": {},
   "source": [
    "## Your code\n",
    "**Note:** It's OK to change the signature for the given functions and the given structure is just a suggestion to help you with the implementation. (you can't remove or add any cells based on the **Rules** section)"
   ]
  },
  {
   "cell_type": "code",
   "execution_count": 138,
   "metadata": {
    "collectable": true
   },
   "outputs": [],
   "source": [
    "import copy\n",
    "\n",
    "class CSP:\n",
    "    def __init__(self, possible, roads, Nhall) -> None:\n",
    "        self.possible = possible\n",
    "        self.roads = roads\n",
    "        self.Nhall = Nhall\n",
    "        self.ralateHall = self.make_ralateHall()\n",
    "\n",
    "    def make_ralateHall(self):\n",
    "        ralateHall = dict()\n",
    "        for hall in range(self.Nhall):\n",
    "            ralateHall[hall] = list()\n",
    "            for road in self.roads:\n",
    "                if hall == road[0]:\n",
    "                    ralateHall[hall].append(road[1])\n",
    "        return ralateHall\n",
    "\n",
    "    def values(Nhall, departs, pref_halls,  exits, e_lines):\n",
    "        possible = {i: [] for i in range(1, Nhall + 1)}\n",
    "        for index, halls in enumerate(pref_halls, start=1):\n",
    "            for hall in halls:\n",
    "                possible[hall].append(index)\n",
    "        roads = []\n",
    "        for edge in next_e_lines:\n",
    "            roads.append((int(edge[0]), int(edge[1])))\n",
    "        return CSP(possible, roads, Nhall)\n",
    "        \n",
    "        \n",
    "    def notAssigned(self, assignment):\n",
    "        for hall in range(1, self.Nhall + 1):\n",
    "            if hall not in assignment.keys():\n",
    "                return hall\n",
    "\n",
    "    def notEqual(self, assignment):\n",
    "        for r1, r2 in self.roads:\n",
    "            if assignment[r1] == assignment[r2]:\n",
    "                return False\n",
    "        return True\n",
    "        \n"
   ]
  },
  {
   "cell_type": "code",
   "execution_count": 139,
   "metadata": {
    "collectable": true
   },
   "outputs": [],
   "source": [
    "def AC3(csp, queue=None):\n",
    "    queue = csp.roads[:]\n",
    "    while queue:\n",
    "        ri , rj = queue.pop(0)\n",
    "        if revise(csp, ri, rj):\n",
    "            if len(csp.possible[ri]) == 0:\n",
    "                return False\n",
    "            for rr in csp.ralateHall[ri]:\n",
    "                if rr != ri:\n",
    "                    queue.append((rr, ri)) \n",
    "    return True\n",
    "\n",
    "def revise(csp, ri, rj):\n",
    "    revise = False\n",
    "    for i in csp.possible[ri]:\n",
    "        if not any([i != j for j in csp.possible[rj]]): \n",
    "            csp.possible[ri].remove(i)\n",
    "            revise = True\n",
    "    return revise"
   ]
  },
  {
   "cell_type": "code",
   "execution_count": 140,
   "metadata": {
    "collectable": true
   },
   "outputs": [],
   "source": [
    "\n",
    "def backtrack(csp, assignment):\n",
    "    if len(assignment) == csp.Nhall:\n",
    "        if csp.notEqual(assignment):\n",
    "            return assignment\n",
    "        return\n",
    "    hall = csp.notAssigned(assignment)\n",
    "    for i in csp.possible[hall]:\n",
    "        assignment[hall] = i\n",
    "        cspc = copy.deepcopy(csp)\n",
    "        if AC3(cspc, assignment):\n",
    "            result = backtrack(cspc, assignment)\n",
    "            if result:\n",
    "                return result\n",
    "    del assignment[hall]\n",
    "    return False\n",
    "\n",
    "def backtracking_search(vals):\n",
    "    bt = backtrack(vals, {})\n",
    "    bt_str = ''\n",
    "    if not bt:\n",
    "        bt_str = 'NO'\n",
    "    else:\n",
    "        bt_arr = []\n",
    "        for i in range(1, vals.Nhall + 1):\n",
    "            bt_arr.append(bt[i])\n",
    "        bt_str = ' '.join(map(str, bt_arr))\n",
    "    return bt_str"
   ]
  },
  {
   "cell_type": "code",
   "execution_count": 141,
   "metadata": {},
   "outputs": [
    {
     "name": "stdout",
     "output_type": "stream",
     "text": [
      "Score = 100.0%\n"
     ]
    }
   ],
   "source": [
    "import Helper_codes.question2 as q2\n",
    "import time\n",
    "\n",
    "TIME_LIMIT = 3\n",
    "\n",
    "tests = q2.get_all_tests(prefix='q2_')\n",
    "tests_passed = 0\n",
    "for test in tests:\n",
    "    n, m, m_next_lines, e, next_e_lines = q2.scan_test_input(test)\n",
    "    val = CSP.values(n, m, m_next_lines, e, next_e_lines)\n",
    "    start_time = time.time()\n",
    "    result = backtracking_search(val)\n",
    "    total_time = time.time() - start_time\n",
    "    if q2.is_result_valid(test, result) and total_time < TIME_LIMIT:\n",
    "        tests_passed += 1\n",
    "    else:\n",
    "        print(f'test {test} failed. time elapsed= {total_time}')\n",
    "print(f'Score = {tests_passed / len(tests) * 100}%')"
   ]
  },
  {
   "cell_type": "markdown",
   "metadata": {},
   "source": [
    "# Q3 (30+5 Points)"
   ]
  },
  {
   "cell_type": "markdown",
   "metadata": {},
   "source": [
    "<font size=4>\n",
    "Author: Matina mehdizadeh\n",
    "\t\t\t<br/>\n",
    "                <font color=red>\n",
    "Please run all the cells.\n",
    "     </font>\n",
    "</font>\n",
    "                <br/>\n",
    "    </div>"
   ]
  },
  {
   "cell_type": "code",
   "execution_count": 142,
   "metadata": {
    "collectable": true
   },
   "outputs": [],
   "source": [
    "# place for your custom functions for Q3 here"
   ]
  },
  {
   "cell_type": "markdown",
   "metadata": {},
   "source": [
    "Consider the given 8*8 board game. There are two players in this game and they try to block each other and limit their valid moves by making walls. Their moves are limited to the 8 cells (or less when they are around the edges) beside them and the walls will start to appear only when a player steps into a random generated yellow cell and the wall will continue to be built until the player reaches the next yellow cell. The players start the game at (0,0) and (7,7) and they keep playing untill one of them loses. There are multiple ways for a player to win the match:\n",
    "- If a player steps into a wall or out of the board, the player loses the match and \"invalid move\" massege will appear on terminal.\n",
    "- If the players reach the maximum moves the game finishes and the winner would be chosen based on the maximum valid move they have left plus the number of walls they have made and \"No more moves\" massege will appear on terminal.\n",
    "- If the getMove() function does not return any value after 2 seconds, the player loses the match and \"Time limit exceeded\" massege will appear on terminal.\n",
    "<img src=\"Images/Q3.png\" style=\"float: center; margin-left: 250px; margin-top: 50px; width:500px;height:400px;\"/>"
   ]
  },
  {
   "cell_type": "markdown",
   "metadata": {},
   "source": [
    "In this question, the codes for starting the game were provided for you in Helper-codes folder. You are expected to implement the MinimaxPlayer class (which inherit the Player class) with alpha-beta pruning. (25 points)"
   ]
  },
  {
   "cell_type": "markdown",
   "metadata": {},
   "source": [
    "## Libraries"
   ]
  },
  {
   "cell_type": "code",
   "execution_count": 143,
   "metadata": {
    "execution": {
     "iopub.execute_input": "2021-10-01T16:01:11.557956Z",
     "iopub.status.busy": "2021-10-01T16:01:11.556447Z",
     "iopub.status.idle": "2021-10-01T16:01:11.747409Z",
     "shell.execute_reply": "2021-10-01T16:01:11.746914Z"
    }
   },
   "outputs": [],
   "source": [
    "import numpy as np\n",
    "import random\n",
    "from Helper_codes.graphics import *\n",
    "from Helper_codes.question3 import Cell\n",
    "from Helper_codes.question3 import IntPair\n",
    "from Helper_codes.question3 import Player\n",
    "from Helper_codes.question3 import NaivePlayer\n",
    "from Helper_codes.question3 import Board\n",
    "from Helper_codes.question3 import Game\n",
    "import time\n",
    "import matplotlib as plt"
   ]
  },
  {
   "cell_type": "markdown",
   "metadata": {},
   "source": [
    "**The following implementations are suggestional and you may change them if you desire.\n",
    "The move_ functions' purpose is to find out if a player, has a valid move on that direction.\n",
    "the purpose of checkRow and CheckCole are to check if the player's x and y is still in the board.**\n"
   ]
  },
  {
   "cell_type": "code",
   "execution_count": 144,
   "metadata": {
    "collectable": true
   },
   "outputs": [],
   "source": [
    "#to do\n",
    "class MinimaxPlayer(Player):\n",
    "    \n",
    "    def __init__(self, col, x, y, depth =5):\n",
    "        self.depth = depth\n",
    "        self.moves = [self.moveU, self.moveD, self.moveR, self.moveL,self.moveUR, self.moveUL, self.moveDR, self.moveDL]\n",
    "        super().__init__(col, x, y)\n",
    "\n",
    "    def checkCol(self, x):\n",
    "        if 0 <= x < 8 :\n",
    "            return True\n",
    "        else: \n",
    "            return False\n",
    "    \n",
    "    def checkRow(self, y):\n",
    "        if 0 <= y < 8:\n",
    "            return True\n",
    "        else: \n",
    "            return False\n",
    "\n",
    "    def moveU(self, x, y, board):\n",
    "        if self.checkRow(y+1) and board.getCell(x, y+1).getColor() == 0:\n",
    "            return IntPair(x, y+1)\n",
    "        return False\n",
    "    \n",
    "\n",
    "    def moveD(self, x, y, board):\n",
    "        if self.checkRow(y-1) and board.getCell(x, y-1).getColor() == 0:\n",
    "            return IntPair(x, y-1)\n",
    "        return False\n",
    "        \n",
    "\n",
    "    def moveR(self, x, y, board):\n",
    "        if self.checkCol(x+1) and board.getCell(x+1, y).getColor() == 0:\n",
    "            return IntPair(x+1, y)\n",
    "        return False\n",
    "        \n",
    "    \n",
    "    def moveL(self, x, y, board):\n",
    "        if self.checkCol(x-1) and board.getCell(x-1, y).getColor() == 0:\n",
    "            return IntPair(x-1, y)\n",
    "        return False\n",
    "        \n",
    "\n",
    "    def moveUR(self, x, y, board):\n",
    "        if self.checkCol(x+1) and self.checkRow(y+1) and board.getCell(x+1, y+1).getColor() == 0:\n",
    "            return IntPair(x+1, y+1)\n",
    "        return False\n",
    "        \n",
    "    \n",
    "    def moveUL(self, x, y, board):\n",
    "        if self.checkCol(x-1) and self.checkRow(y+1) and board.getCell(x-1, y+1).getColor() == 0:\n",
    "            return IntPair(x-1, y+1)\n",
    "        return False\n",
    "     \n",
    "\n",
    "    def moveDR(self, x, y, board):\n",
    "        if self.checkCol(x+1) and self.checkRow(y-1) and board.getCell(x+1, y-1).getColor() == 0:\n",
    "            return IntPair(x+1, y-1)\n",
    "        return False\n",
    "\n",
    "    def moveDL(self, x, y, board):\n",
    "        if self.checkCol(x-1) and self.checkRow(y-1) and board.getCell(x-1, y-1).getColor() == 0:\n",
    "            return IntPair(x-1, y-1)\n",
    "        return False\n",
    "\n",
    "    def canMove(self, x, y, board):\n",
    "        moves = []\n",
    "        for i in self.moves:\n",
    "            move = i(x, y, board)\n",
    "            if move:\n",
    "                moves.append(move)\n",
    "        if len(moves) > 0:\n",
    "            return moves  \n",
    "        else:\n",
    "            return False\n",
    "\n",
    "    def minValue(self, board, alpha, beta, depth):\n",
    "        if depth == 0:\n",
    "            return board.getScore(self.getCol())\n",
    "        moves = self.canMove(board.getPlayerX(self.getCol()), board.getPlayerY(self.getCol()), board)\n",
    "        minv = float('+inf')\n",
    "        if not moves:\n",
    "            return -1\n",
    "        else:\n",
    "            for i in moves:\n",
    "                v = self.minValue(board, alpha, beta, depth-1)\n",
    "                minv = min(minv, val)\n",
    "                beta = min(beta, minv)\n",
    "                if beta <= alpha:\n",
    "                   break\n",
    "        return minv\n",
    "    \n",
    "    def maxValue(self, board, alpha, beta, depth):\n",
    "        if depth == 0:\n",
    "            return board.getScore(self.getCol())\n",
    "        moves = self.canMove(board.getPlayerX(self.getCol()), board.getPlayerY(self.getCol()), board)\n",
    "        maxv = float('-inf')\n",
    "        if not moves:\n",
    "            return -1\n",
    "        else:\n",
    "            for i in moves:\n",
    "                v = self.maxValue(board, alpha, beta, depth-1)\n",
    "                maxv = max(maxv, v)\n",
    "                alpha = max(alpha, maxv)\n",
    "                if beta <= alpha:\n",
    "                     break\n",
    "        return maxv\n",
    "    \n",
    "    def getMove(self, board):\n",
    "        alpha = float('-inf')\n",
    "        beta = float('inf')\n",
    "        next = IntPair(-20, -20)\n",
    "\n",
    "        if (board.getNumberOfMoves() == board.maxNumberOfMoves):\n",
    "            return IntPair(-20, -20)\n",
    "        \n",
    "        moves = self.canMove(board.getPlayerX(self.getCol()), board.getPlayerY(self.getCol()), board)\n",
    "        if not moves:\n",
    "            return IntPair(-10, -10)\n",
    "        else:\n",
    "            maxv = float('-inf')\n",
    "            for i in moves:\n",
    "                boardc = Board(board)\n",
    "                boardc.move(i, self.getCol())\n",
    "                v = self.minValue(boardc, alpha, beta, self.depth-1)\n",
    "                if v > maxv:\n",
    "                    maxv = v\n",
    "                    next = i\n",
    "\n",
    "    "
   ]
  },
  {
   "cell_type": "markdown",
   "metadata": {},
   "source": [
    "If you run the game once (numberOfMatches = 1) the game window will open and you would be able to observe the players behaviour and the reason why the winner has won, will appear on terminal.\n",
    "If you run the game for more than one match (numberOfMatches > 1) the graphic window and the comments on terminal would not show up. This is for the time you finish implementing the MinimaxPlayer class and you want to verify the functionality of your code; also, for next part of the question, in which you should plot the scores for the first player."
   ]
  },
  {
   "cell_type": "code",
   "execution_count": 145,
   "metadata": {
    "collectable": true
   },
   "outputs": [
    {
     "name": "stdout",
     "output_type": "stream",
     "text": [
      "Player 2 has made an invalid move\n",
      "Player 1 has won\n",
      "\n",
      "1.0\n"
     ]
    }
   ],
   "source": [
    "################################################################\n",
    "# p1 must be replace with minimaxPlayer                        #\n",
    "################################################################\n",
    "p1 = NaivePlayer(1, 0, 0)\n",
    "p2 = NaivePlayer(2, 7, 7)\n",
    "g = Game(p1, p2)\n",
    "numberOfMatches = 1\n",
    "score1, score2 = g.start(numberOfMatches)\n",
    "print(score1/numberOfMatches)"
   ]
  },
  {
   "cell_type": "markdown",
   "metadata": {},
   "source": [
    "In this section, you need to run the game code multiple times and each time with the same numberOfMatches (this should be a large number so your answer be more reliable) once for Naive player and once for Minimax. compare these two plots in terms of shape and the main elements of the distribution. (5 points)"
   ]
  },
  {
   "cell_type": "code",
   "execution_count": 146,
   "metadata": {
    "collectable": true
   },
   "outputs": [
    {
     "name": "stdout",
     "output_type": "stream",
     "text": [
      "0.6\n",
      "0.6\n"
     ]
    }
   ],
   "source": [
    "numberOfMatches = 5\n",
    "for i in range(2):\n",
    "    p1 = NaivePlayer(1, 0, 0)\n",
    "    p2 = NaivePlayer(2, 7, 7)\n",
    "    g = Game(p1, p2)\n",
    "    score1, score2 = g.start(numberOfMatches)\n",
    "    print(score1/numberOfMatches)"
   ]
  },
  {
   "cell_type": "code",
   "execution_count": 147,
   "metadata": {
    "collectable": true
   },
   "outputs": [
    {
     "ename": "TypeError",
     "evalue": "'<' not supported between instances of 'CSP' and 'float'",
     "output_type": "error",
     "traceback": [
      "\u001b[1;31m---------------------------------------------------------------------------\u001b[0m",
      "\u001b[1;31mTypeError\u001b[0m                                 Traceback (most recent call last)",
      "\u001b[1;32m~\\AppData\\Local\\Temp/ipykernel_14276/272044809.py\u001b[0m in \u001b[0;36m<module>\u001b[1;34m\u001b[0m\n\u001b[0;32m      4\u001b[0m     \u001b[0mp2\u001b[0m \u001b[1;33m=\u001b[0m \u001b[0mNaivePlayer\u001b[0m\u001b[1;33m(\u001b[0m\u001b[1;36m2\u001b[0m\u001b[1;33m,\u001b[0m \u001b[1;36m7\u001b[0m\u001b[1;33m,\u001b[0m \u001b[1;36m7\u001b[0m\u001b[1;33m)\u001b[0m\u001b[1;33m\u001b[0m\u001b[1;33m\u001b[0m\u001b[0m\n\u001b[0;32m      5\u001b[0m     \u001b[0mg\u001b[0m \u001b[1;33m=\u001b[0m \u001b[0mGame\u001b[0m\u001b[1;33m(\u001b[0m\u001b[0mp1\u001b[0m\u001b[1;33m,\u001b[0m \u001b[0mp2\u001b[0m\u001b[1;33m)\u001b[0m\u001b[1;33m\u001b[0m\u001b[1;33m\u001b[0m\u001b[0m\n\u001b[1;32m----> 6\u001b[1;33m     \u001b[0mscore1\u001b[0m\u001b[1;33m,\u001b[0m \u001b[0mscore2\u001b[0m \u001b[1;33m=\u001b[0m \u001b[0mg\u001b[0m\u001b[1;33m.\u001b[0m\u001b[0mstart\u001b[0m\u001b[1;33m(\u001b[0m\u001b[0mnumberOfMatches\u001b[0m\u001b[1;33m)\u001b[0m\u001b[1;33m\u001b[0m\u001b[1;33m\u001b[0m\u001b[0m\n\u001b[0m\u001b[0;32m      7\u001b[0m     \u001b[0mprint\u001b[0m\u001b[1;33m(\u001b[0m\u001b[0mscore1\u001b[0m\u001b[1;33m/\u001b[0m\u001b[0mnumberOfMatches\u001b[0m\u001b[1;33m)\u001b[0m\u001b[1;33m\u001b[0m\u001b[1;33m\u001b[0m\u001b[0m\n",
      "\u001b[1;32mc:\\Users\\sa\\Desktop\\New folder (5)\\Helper_codes\\question3.py\u001b[0m in \u001b[0;36mstart\u001b[1;34m(self, numberOfMatches)\u001b[0m\n\u001b[0;32m    386\u001b[0m \u001b[1;33m\u001b[0m\u001b[0m\n\u001b[0;32m    387\u001b[0m \u001b[1;33m\u001b[0m\u001b[0m\n\u001b[1;32m--> 388\u001b[1;33m                 \u001b[0mself\u001b[0m\u001b[1;33m.\u001b[0m\u001b[0m__nextPlace\u001b[0m \u001b[1;33m=\u001b[0m \u001b[0mself\u001b[0m\u001b[1;33m.\u001b[0m\u001b[0m__players\u001b[0m\u001b[1;33m[\u001b[0m\u001b[0mself\u001b[0m\u001b[1;33m.\u001b[0m\u001b[0m__turn\u001b[0m\u001b[1;33m]\u001b[0m\u001b[1;33m.\u001b[0m\u001b[0mgetMove\u001b[0m\u001b[1;33m(\u001b[0m\u001b[0mBoard\u001b[0m\u001b[1;33m(\u001b[0m\u001b[0mself\u001b[0m\u001b[1;33m.\u001b[0m\u001b[0m__board\u001b[0m\u001b[1;33m)\u001b[0m\u001b[1;33m)\u001b[0m\u001b[1;33m\u001b[0m\u001b[1;33m\u001b[0m\u001b[0m\n\u001b[0m\u001b[0;32m    389\u001b[0m \u001b[1;33m\u001b[0m\u001b[0m\n\u001b[0;32m    390\u001b[0m                 \u001b[1;32mif\u001b[0m \u001b[1;33m(\u001b[0m\u001b[0mself\u001b[0m\u001b[1;33m.\u001b[0m\u001b[0m__nextPlace\u001b[0m\u001b[1;33m.\u001b[0m\u001b[0mx\u001b[0m \u001b[1;33m==\u001b[0m \u001b[1;33m-\u001b[0m\u001b[1;36m10\u001b[0m\u001b[1;33m)\u001b[0m\u001b[1;33m:\u001b[0m\u001b[1;33m\u001b[0m\u001b[1;33m\u001b[0m\u001b[0m\n",
      "\u001b[1;32m~\\AppData\\Local\\Temp/ipykernel_14276/3983601368.py\u001b[0m in \u001b[0;36mgetMove\u001b[1;34m(self, board)\u001b[0m\n\u001b[0;32m    124\u001b[0m                 \u001b[0mboardc\u001b[0m \u001b[1;33m=\u001b[0m \u001b[0mBoard\u001b[0m\u001b[1;33m(\u001b[0m\u001b[0mboard\u001b[0m\u001b[1;33m)\u001b[0m\u001b[1;33m\u001b[0m\u001b[1;33m\u001b[0m\u001b[0m\n\u001b[0;32m    125\u001b[0m                 \u001b[0mboardc\u001b[0m\u001b[1;33m.\u001b[0m\u001b[0mmove\u001b[0m\u001b[1;33m(\u001b[0m\u001b[0mi\u001b[0m\u001b[1;33m,\u001b[0m \u001b[0mself\u001b[0m\u001b[1;33m.\u001b[0m\u001b[0mgetCol\u001b[0m\u001b[1;33m(\u001b[0m\u001b[1;33m)\u001b[0m\u001b[1;33m)\u001b[0m\u001b[1;33m\u001b[0m\u001b[1;33m\u001b[0m\u001b[0m\n\u001b[1;32m--> 126\u001b[1;33m                 \u001b[0mv\u001b[0m \u001b[1;33m=\u001b[0m \u001b[0mself\u001b[0m\u001b[1;33m.\u001b[0m\u001b[0mminValue\u001b[0m\u001b[1;33m(\u001b[0m\u001b[0mboardc\u001b[0m\u001b[1;33m,\u001b[0m \u001b[0malpha\u001b[0m\u001b[1;33m,\u001b[0m \u001b[0mbeta\u001b[0m\u001b[1;33m,\u001b[0m \u001b[0mself\u001b[0m\u001b[1;33m.\u001b[0m\u001b[0mdepth\u001b[0m\u001b[1;33m-\u001b[0m\u001b[1;36m1\u001b[0m\u001b[1;33m)\u001b[0m\u001b[1;33m\u001b[0m\u001b[1;33m\u001b[0m\u001b[0m\n\u001b[0m\u001b[0;32m    127\u001b[0m                 \u001b[1;32mif\u001b[0m \u001b[0mv\u001b[0m \u001b[1;33m>\u001b[0m \u001b[0mmaxv\u001b[0m\u001b[1;33m:\u001b[0m\u001b[1;33m\u001b[0m\u001b[1;33m\u001b[0m\u001b[0m\n\u001b[0;32m    128\u001b[0m                     \u001b[0mmaxv\u001b[0m \u001b[1;33m=\u001b[0m \u001b[0mv\u001b[0m\u001b[1;33m\u001b[0m\u001b[1;33m\u001b[0m\u001b[0m\n",
      "\u001b[1;32m~\\AppData\\Local\\Temp/ipykernel_14276/3983601368.py\u001b[0m in \u001b[0;36mminValue\u001b[1;34m(self, board, alpha, beta, depth)\u001b[0m\n\u001b[0;32m     85\u001b[0m         \u001b[1;32melse\u001b[0m\u001b[1;33m:\u001b[0m\u001b[1;33m\u001b[0m\u001b[1;33m\u001b[0m\u001b[0m\n\u001b[0;32m     86\u001b[0m             \u001b[1;32mfor\u001b[0m \u001b[0mi\u001b[0m \u001b[1;32min\u001b[0m \u001b[0mmoves\u001b[0m\u001b[1;33m:\u001b[0m\u001b[1;33m\u001b[0m\u001b[1;33m\u001b[0m\u001b[0m\n\u001b[1;32m---> 87\u001b[1;33m                 \u001b[0mv\u001b[0m \u001b[1;33m=\u001b[0m \u001b[0mself\u001b[0m\u001b[1;33m.\u001b[0m\u001b[0mminValue\u001b[0m\u001b[1;33m(\u001b[0m\u001b[0mboard\u001b[0m\u001b[1;33m,\u001b[0m \u001b[0malpha\u001b[0m\u001b[1;33m,\u001b[0m \u001b[0mbeta\u001b[0m\u001b[1;33m,\u001b[0m \u001b[0mdepth\u001b[0m\u001b[1;33m-\u001b[0m\u001b[1;36m1\u001b[0m\u001b[1;33m)\u001b[0m\u001b[1;33m\u001b[0m\u001b[1;33m\u001b[0m\u001b[0m\n\u001b[0m\u001b[0;32m     88\u001b[0m                 \u001b[0mminv\u001b[0m \u001b[1;33m=\u001b[0m \u001b[0mmin\u001b[0m\u001b[1;33m(\u001b[0m\u001b[0mminv\u001b[0m\u001b[1;33m,\u001b[0m \u001b[0mval\u001b[0m\u001b[1;33m)\u001b[0m\u001b[1;33m\u001b[0m\u001b[1;33m\u001b[0m\u001b[0m\n\u001b[0;32m     89\u001b[0m                 \u001b[0mbeta\u001b[0m \u001b[1;33m=\u001b[0m \u001b[0mmin\u001b[0m\u001b[1;33m(\u001b[0m\u001b[0mbeta\u001b[0m\u001b[1;33m,\u001b[0m \u001b[0mminv\u001b[0m\u001b[1;33m)\u001b[0m\u001b[1;33m\u001b[0m\u001b[1;33m\u001b[0m\u001b[0m\n",
      "\u001b[1;32m~\\AppData\\Local\\Temp/ipykernel_14276/3983601368.py\u001b[0m in \u001b[0;36mminValue\u001b[1;34m(self, board, alpha, beta, depth)\u001b[0m\n\u001b[0;32m     85\u001b[0m         \u001b[1;32melse\u001b[0m\u001b[1;33m:\u001b[0m\u001b[1;33m\u001b[0m\u001b[1;33m\u001b[0m\u001b[0m\n\u001b[0;32m     86\u001b[0m             \u001b[1;32mfor\u001b[0m \u001b[0mi\u001b[0m \u001b[1;32min\u001b[0m \u001b[0mmoves\u001b[0m\u001b[1;33m:\u001b[0m\u001b[1;33m\u001b[0m\u001b[1;33m\u001b[0m\u001b[0m\n\u001b[1;32m---> 87\u001b[1;33m                 \u001b[0mv\u001b[0m \u001b[1;33m=\u001b[0m \u001b[0mself\u001b[0m\u001b[1;33m.\u001b[0m\u001b[0mminValue\u001b[0m\u001b[1;33m(\u001b[0m\u001b[0mboard\u001b[0m\u001b[1;33m,\u001b[0m \u001b[0malpha\u001b[0m\u001b[1;33m,\u001b[0m \u001b[0mbeta\u001b[0m\u001b[1;33m,\u001b[0m \u001b[0mdepth\u001b[0m\u001b[1;33m-\u001b[0m\u001b[1;36m1\u001b[0m\u001b[1;33m)\u001b[0m\u001b[1;33m\u001b[0m\u001b[1;33m\u001b[0m\u001b[0m\n\u001b[0m\u001b[0;32m     88\u001b[0m                 \u001b[0mminv\u001b[0m \u001b[1;33m=\u001b[0m \u001b[0mmin\u001b[0m\u001b[1;33m(\u001b[0m\u001b[0mminv\u001b[0m\u001b[1;33m,\u001b[0m \u001b[0mval\u001b[0m\u001b[1;33m)\u001b[0m\u001b[1;33m\u001b[0m\u001b[1;33m\u001b[0m\u001b[0m\n\u001b[0;32m     89\u001b[0m                 \u001b[0mbeta\u001b[0m \u001b[1;33m=\u001b[0m \u001b[0mmin\u001b[0m\u001b[1;33m(\u001b[0m\u001b[0mbeta\u001b[0m\u001b[1;33m,\u001b[0m \u001b[0mminv\u001b[0m\u001b[1;33m)\u001b[0m\u001b[1;33m\u001b[0m\u001b[1;33m\u001b[0m\u001b[0m\n",
      "\u001b[1;32m~\\AppData\\Local\\Temp/ipykernel_14276/3983601368.py\u001b[0m in \u001b[0;36mminValue\u001b[1;34m(self, board, alpha, beta, depth)\u001b[0m\n\u001b[0;32m     85\u001b[0m         \u001b[1;32melse\u001b[0m\u001b[1;33m:\u001b[0m\u001b[1;33m\u001b[0m\u001b[1;33m\u001b[0m\u001b[0m\n\u001b[0;32m     86\u001b[0m             \u001b[1;32mfor\u001b[0m \u001b[0mi\u001b[0m \u001b[1;32min\u001b[0m \u001b[0mmoves\u001b[0m\u001b[1;33m:\u001b[0m\u001b[1;33m\u001b[0m\u001b[1;33m\u001b[0m\u001b[0m\n\u001b[1;32m---> 87\u001b[1;33m                 \u001b[0mv\u001b[0m \u001b[1;33m=\u001b[0m \u001b[0mself\u001b[0m\u001b[1;33m.\u001b[0m\u001b[0mminValue\u001b[0m\u001b[1;33m(\u001b[0m\u001b[0mboard\u001b[0m\u001b[1;33m,\u001b[0m \u001b[0malpha\u001b[0m\u001b[1;33m,\u001b[0m \u001b[0mbeta\u001b[0m\u001b[1;33m,\u001b[0m \u001b[0mdepth\u001b[0m\u001b[1;33m-\u001b[0m\u001b[1;36m1\u001b[0m\u001b[1;33m)\u001b[0m\u001b[1;33m\u001b[0m\u001b[1;33m\u001b[0m\u001b[0m\n\u001b[0m\u001b[0;32m     88\u001b[0m                 \u001b[0mminv\u001b[0m \u001b[1;33m=\u001b[0m \u001b[0mmin\u001b[0m\u001b[1;33m(\u001b[0m\u001b[0mminv\u001b[0m\u001b[1;33m,\u001b[0m \u001b[0mval\u001b[0m\u001b[1;33m)\u001b[0m\u001b[1;33m\u001b[0m\u001b[1;33m\u001b[0m\u001b[0m\n\u001b[0;32m     89\u001b[0m                 \u001b[0mbeta\u001b[0m \u001b[1;33m=\u001b[0m \u001b[0mmin\u001b[0m\u001b[1;33m(\u001b[0m\u001b[0mbeta\u001b[0m\u001b[1;33m,\u001b[0m \u001b[0mminv\u001b[0m\u001b[1;33m)\u001b[0m\u001b[1;33m\u001b[0m\u001b[1;33m\u001b[0m\u001b[0m\n",
      "\u001b[1;32m~\\AppData\\Local\\Temp/ipykernel_14276/3983601368.py\u001b[0m in \u001b[0;36mminValue\u001b[1;34m(self, board, alpha, beta, depth)\u001b[0m\n\u001b[0;32m     86\u001b[0m             \u001b[1;32mfor\u001b[0m \u001b[0mi\u001b[0m \u001b[1;32min\u001b[0m \u001b[0mmoves\u001b[0m\u001b[1;33m:\u001b[0m\u001b[1;33m\u001b[0m\u001b[1;33m\u001b[0m\u001b[0m\n\u001b[0;32m     87\u001b[0m                 \u001b[0mv\u001b[0m \u001b[1;33m=\u001b[0m \u001b[0mself\u001b[0m\u001b[1;33m.\u001b[0m\u001b[0mminValue\u001b[0m\u001b[1;33m(\u001b[0m\u001b[0mboard\u001b[0m\u001b[1;33m,\u001b[0m \u001b[0malpha\u001b[0m\u001b[1;33m,\u001b[0m \u001b[0mbeta\u001b[0m\u001b[1;33m,\u001b[0m \u001b[0mdepth\u001b[0m\u001b[1;33m-\u001b[0m\u001b[1;36m1\u001b[0m\u001b[1;33m)\u001b[0m\u001b[1;33m\u001b[0m\u001b[1;33m\u001b[0m\u001b[0m\n\u001b[1;32m---> 88\u001b[1;33m                 \u001b[0mminv\u001b[0m \u001b[1;33m=\u001b[0m \u001b[0mmin\u001b[0m\u001b[1;33m(\u001b[0m\u001b[0mminv\u001b[0m\u001b[1;33m,\u001b[0m \u001b[0mval\u001b[0m\u001b[1;33m)\u001b[0m\u001b[1;33m\u001b[0m\u001b[1;33m\u001b[0m\u001b[0m\n\u001b[0m\u001b[0;32m     89\u001b[0m                 \u001b[0mbeta\u001b[0m \u001b[1;33m=\u001b[0m \u001b[0mmin\u001b[0m\u001b[1;33m(\u001b[0m\u001b[0mbeta\u001b[0m\u001b[1;33m,\u001b[0m \u001b[0mminv\u001b[0m\u001b[1;33m)\u001b[0m\u001b[1;33m\u001b[0m\u001b[1;33m\u001b[0m\u001b[0m\n\u001b[0;32m     90\u001b[0m                 \u001b[1;32mif\u001b[0m \u001b[0mbeta\u001b[0m \u001b[1;33m<=\u001b[0m \u001b[0malpha\u001b[0m\u001b[1;33m:\u001b[0m\u001b[1;33m\u001b[0m\u001b[1;33m\u001b[0m\u001b[0m\n",
      "\u001b[1;31mTypeError\u001b[0m: '<' not supported between instances of 'CSP' and 'float'"
     ]
    }
   ],
   "source": [
    "numberOfMatches = 5\n",
    "for i in range(2):\n",
    "    p1 = MinimaxPlayer(1, 0, 0)\n",
    "    p2 = NaivePlayer(2, 7, 7)\n",
    "    g = Game(p1, p2)\n",
    "    score1, score2 = g.start(numberOfMatches)\n",
    "    print(score1/numberOfMatches)"
   ]
  },
  {
   "cell_type": "markdown",
   "metadata": {},
   "source": [
    "In this section you should change the game settings for different depths and plot the number of wins in fix number of matches for these depths. Also, you should let two minimax players with diffrent depths play againts eachother and report your observation.(5 points)"
   ]
  },
  {
   "cell_type": "code",
   "execution_count": null,
   "metadata": {
    "collectable": true
   },
   "outputs": [],
   "source": [
    "################################################################\n",
    "# plot the number of wins for diffrent depths (2.5 point)      #\n",
    "################################################################"
   ]
  },
  {
   "cell_type": "code",
   "execution_count": null,
   "metadata": {
    "collectable": true
   },
   "outputs": [],
   "source": [
    "################################################################\n",
    "# start the match for two minimax players (2.5 point)          #\n",
    "################################################################"
   ]
  }
 ],
 "metadata": {
  "interpreter": {
   "hash": "fd5154ab440b3410eb6bae3fa0b455cb65bf681e84760bd6c4bfc90ace169e18"
  },
  "kernelspec": {
   "display_name": "Python 3.10.0 64-bit",
   "name": "python3"
  },
  "language_info": {
   "codemirror_mode": {
    "name": "ipython",
    "version": 3
   },
   "file_extension": ".py",
   "mimetype": "text/x-python",
   "name": "python",
   "nbconvert_exporter": "python",
   "pygments_lexer": "ipython3",
   "version": "3.10.0"
  }
 },
 "nbformat": 4,
 "nbformat_minor": 4
}
