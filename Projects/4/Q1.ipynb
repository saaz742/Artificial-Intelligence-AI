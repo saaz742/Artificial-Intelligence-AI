{
  "cells": [
    {
      "cell_type": "markdown",
      "metadata": {
        "id": "HUllp2tqnegL"
      },
      "source": [
        "<div align=center>\n",
        "\t\t\n",
        "<p></p>\n",
        "<p></p>\n",
        "<font size=5>\n",
        "In the Name of God\n",
        "<font/>\n",
        "<p></p>\n",
        " <br/>\n",
        "    <br/>\n",
        "    <br/>\n",
        "<font color=#FF7500>\n",
        "Sharif University of Technology - Departmenet of Computer Engineering\n",
        "</font>\n",
        "<p></p>\n",
        "<font color=blue>\n",
        "Artifical Intelligence - Dr. Mohammad Hossein Rohban\n",
        "</font>\n",
        "<br/>\n",
        "<br/>\n",
        "Fall 2021\n",
        "\n",
        "</div>\n",
        "\n",
        "<hr/>\n",
        "\t\t<div align=center>\n",
        "\t\t    <font color=red size=6>\n",
        "\t\t\t    <br />\n",
        "Practical Assignment 4 Naive Bayes\n",
        "            \t<br/>\n",
        "\t\t\t</font>\n",
        "    <br/>\n",
        "    <br/>\n",
        "<font size=4> \n",
        "                <br/><b>\n",
        "              Cheating is Strongly Prohibited\n",
        "                </b><br/><br/>\n",
        "                <font color=red>\n",
        "Please run all the cells.\n",
        "     </font>\n",
        "</font>\n",
        "                <br/>\n",
        "    </div>"
      ]
    },
    {
      "cell_type": "markdown",
      "metadata": {
        "id": "lnVW1Hn8negO"
      },
      "source": [
        "# Personal Data"
      ]
    },
    {
      "cell_type": "code",
      "execution_count": 17,
      "metadata": {
        "id": "MAz097GGnegP"
      },
      "outputs": [],
      "source": [
        "# Set your student number\n",
        "student_number = 98170668\n",
        "Name = 'sara'\n",
        "Last_Name = 'azarnoush'"
      ]
    },
    {
      "cell_type": "markdown",
      "metadata": {
        "id": "bFMv-of5negQ"
      },
      "source": [
        "# Rules\n",
        "- You **are** allowed to add or remove cells.\n",
        "- By running the cell below, you can see if your jupyter file is accepted or not. This cell will also **generate a python file which you'll have to upload to Quera** (as well as your jupyter file). The python file will later be validated and if the code in both files doesn't match, **your Practical Assignment won't be graded**."
      ]
    },
    {
      "cell_type": "code",
      "execution_count": 18,
      "metadata": {
        "id": "GROzKTt5negS"
      },
      "outputs": [],
      "source": [
        "# # remember to save your jupyter file before running this script\n",
        "# from Helper_codes.validator import *\n",
        "\n",
        "# python_code = extract_python(\"./Q1.ipynb\")\n",
        "# with open(f'python_code_Q1_{student_number}.py', 'w') as file:\n",
        "#     file.write(python_code)"
      ]
    },
    {
      "cell_type": "code",
      "execution_count": 19,
      "metadata": {
        "colab": {
          "base_uri": "https://localhost:8080/"
        },
        "id": "5zgem76KnqAj",
        "outputId": "3fb07c48-0a0a-49f3-9407-77cbfb1ef061"
      },
      "outputs": [
        {
          "output_type": "stream",
          "name": "stdout",
          "text": [
            "Drive already mounted at /content/drive; to attempt to forcibly remount, call drive.mount(\"/content/drive\", force_remount=True).\n",
            "/content/drive/My Drive/Practical\n"
          ]
        }
      ],
      "source": [
        "from google.colab import drive\n",
        "drive.mount('/content/drive')\n",
        "\n",
        "address = \"Practical/\"\n",
        "import sys\n",
        "sys.path.append('/content/drive/My Drive/{}'.format(address))\n",
        "\n",
        "%cd /content/drive/My\\ Drive/$address"
      ]
    },
    {
      "cell_type": "markdown",
      "metadata": {
        "id": "Peo16WMHnegT"
      },
      "source": [
        "# Gaussian Naive Bayes (40 Points)"
      ]
    },
    {
      "cell_type": "markdown",
      "metadata": {
        "id": "kBSVEkBVnegU"
      },
      "source": [
        "<font size=4>\n",
        "Author: Kimia Noorbakhsh\n",
        "\t\t\t<br/>\n",
        "                <font color=red>\n",
        "Please run all the cells.\n",
        "     </font>\n",
        "</font>\n",
        "                <br/>\n",
        "    </div>"
      ]
    },
    {
      "cell_type": "markdown",
      "metadata": {
        "id": "tk3B1JjSnegV"
      },
      "source": [
        "In this assignment, you are going to implement a Naive Bayes Classifier for the MNIST Dataset (Well, of course, **from scratch**!). The MNIST data set is a vast database of handwritten digits that is commonly used to form various image processing systems. \n",
        "\n",
        "Please note the following before you continue:\n",
        "- After implementing your Classifier, train your model on the **train** section of the MNIST dataset and validate your model by testing it on the test set.\n",
        "- Note that if you use any of the **test** images during training or for improving the accuracy, you will not earn any points for this assignment. \n",
        "- Do not forget to use **Laplace Smoothing** to avoid overfitting."
      ]
    },
    {
      "cell_type": "markdown",
      "metadata": {
        "id": "xMFd2xZ4negV"
      },
      "source": [
        "Recall Bayes rule:\n",
        "    $$P(c|x) =  \\frac{P(x|c)P(c)}{P(x)} \\;\\;\\;\\;(1)$$\n",
        "    \n",
        "Here $x$ stands for the image, or more precisely, the pixel values of the formatted image as a vector, and $c$ stands for the number, which can be 0, 1, ..., 9. We can read the left side $P(c|x)$ as \"the probability of the class being $c$ given the $x$\" data (posterior). We can read the right side $P(x|c)$ as \"the probability of $x$ data being in the $c$\" class (likelihood). We care about the value of $c$. It tells us \"what number\" this picture is. The chosen class is simply the one with the highest probability for this data:\n",
        "$$c^* = argmax_{c}P(c|x)$$\n",
        "Now, we can ignore $P(x)$ in equation (1) (why?). Using this information, we can simplify our problem so that, in order to choose “which digit” given an image, all we need to do is calculate this argmax (P(x) is removed):\n",
        "$$c^* = argmax_{c}P(x|c)P(c)$$\n",
        "Now, we need to think about how to calculate $P(c)$, and $P(x|c)$. We leave this section for you to think about ^_^. But as a guide for $P(x|c)$, read the following. \n",
        "\n",
        "Remember that pixels represent the intensity of light, and that the intensity of light is in fact continuous. A first reasonable estimation to model continuous data is the multivariate Gaussian or multivariate Normal. We can write:\n",
        "$$P(x|c) = \\frac{1}{\\sqrt{(2\\pi)^{D}|\\Sigma|}}\\exp(-\\frac{1}{2}(x - \\mu)^{T}\\Sigma^{-1}(x-\\mu))$$\n",
        "Note that because probabilities are very small when dimensionality is high, we are going to work with log-probability rather than probability. So instead of getting numbers that are very close to 0, which is inaccurate when you use a computer to represent them, we're just going to get negative numbers. The log-probability can be represented as ($D$ is the dimentionality):\n",
        "$$\\log{P(x|c) = -\\frac{D}{2}\\ln(2\\pi)-\\frac{1}{2}\\ln|\\Sigma|-\\frac{1}{2}(x - \\mu)^{T}\\Sigma^{-1}(x-\\mu)}$$\n",
        "To calculate $\\mu$ and $\\Sigma$, you can use the **sample** mean and covariance (see [here.](https://en.wikipedia.org/wiki/Sample_mean_and_covariance)) Also note that to get the argmax over $P(x|c)P(c)$, we can choose the digit class using:\n",
        "$$c^* = argmax_{c}(\\log P(x|c)+\\log P(c))$$\n",
        "Now, let's dive into implementing a **Gaussian Naive Bayes Classifier.**"
      ]
    },
    {
      "cell_type": "markdown",
      "metadata": {
        "id": "JYYqzp0QnegX"
      },
      "source": [
        "## Loading data"
      ]
    },
    {
      "cell_type": "markdown",
      "metadata": {
        "id": "3qVkszrMnegY"
      },
      "source": [
        "For your convineince, use the following cells to access the data. "
      ]
    },
    {
      "cell_type": "code",
      "execution_count": 20,
      "metadata": {
        "id": "tvrpRCc7negZ"
      },
      "outputs": [],
      "source": [
        "# !pip install torchvision\n",
        "# !pip install numpy\n",
        "# and other libraries you might need\n",
        "\n",
        "from torchvision import datasets\n",
        "import numpy as np"
      ]
    },
    {
      "cell_type": "code",
      "execution_count": 21,
      "metadata": {
        "id": "fi1P3n2EnegZ"
      },
      "outputs": [],
      "source": [
        "train_data = datasets.MNIST('./data', train=True, download=True)\n",
        "test_data  = datasets.MNIST('./data', train=False, download=True)\n",
        "\n",
        "train_images = np.array(train_data.data)\n",
        "train_labels = np.array(train_data.targets)\n",
        "test_images = np.array(test_data.data)\n",
        "test_labels = np.array(test_data.targets)"
      ]
    },
    {
      "cell_type": "markdown",
      "metadata": {
        "id": "qQSz5lISnegZ"
      },
      "source": [
        "## Training the Model"
      ]
    },
    {
      "cell_type": "code",
      "execution_count": 22,
      "metadata": {
        "id": "GwNL3oJ7nega"
      },
      "outputs": [],
      "source": [
        "# import math\n",
        "from scipy.stats import multivariate_normal\n",
        "#https://het.as.utexas.edu/HET/Software/Scipy/generated/scipy.stats.multivariate_normal.html#scipy.stats.multivariate_normal\n",
        "class Bayes:\n",
        "    def train(self, train_images, train_lables):\n",
        "        dim = 784    # 28 * 28\n",
        "        self.gaussian = {}\n",
        "        self.label_pros = {}\n",
        "        self.labels = set(train_labels)\n",
        "        smoothing = 5555\n",
        "        x = np.eye(dim) * smoothing\n",
        "        trainl = len(train_lables)\n",
        "        for i in self.labels:\n",
        "          self.label_pros[i] = len(train_lables[i == train_lables]) / trainl\n",
        "          images = train_images[i == train_lables].reshape(-1,dim)\n",
        "          self.gaussian[i] = multivariate_normal(images.mean(axis=0), np.cov(images,rowvar = False) + x);\n",
        "\n",
        "    def calc_accuracy(self, images, labels):\n",
        "      arr =  self.predict_labels(images)\n",
        "      return (arr == labels).mean()\n",
        "\n",
        "    def predict_labels(self, images):\n",
        "        predictions = []\n",
        "        for i in images:\n",
        "            result = self.maxi(i.reshape(-1))\n",
        "            predictions.append(result)\n",
        "        return predictions\n",
        "\n",
        "    def maxi(self, images):\n",
        "      cs = []\n",
        "      for i in self.labels:\n",
        "        #c∗=argmaxc(logP(x|c)+logP(c))\n",
        "        cs.append(np.log(self.label_pros[i]) + self.gaussian[i].logpdf(images))\n",
        "      cn = cs[9]\n",
        "      idx = 9 \n",
        "      for i in range(9):\n",
        "        if(cn < cs[i]):\n",
        "          cn = cs[i]\n",
        "          idx = i\n",
        "      return idx\n",
        "\n",
        "\n"
      ]
    },
    {
      "cell_type": "code",
      "execution_count": 23,
      "metadata": {
        "id": "DPERJDDPnega"
      },
      "outputs": [],
      "source": [
        "network = Bayes()\n",
        "network.train(train_images, train_labels)"
      ]
    },
    {
      "cell_type": "markdown",
      "metadata": {
        "id": "sPydlczfnegb"
      },
      "source": [
        "## Model Evaluation"
      ]
    },
    {
      "cell_type": "code",
      "execution_count": 24,
      "metadata": {
        "id": "AZhK4I63negb",
        "colab": {
          "base_uri": "https://localhost:8080/"
        },
        "outputId": "9229e238-3158-4ada-afc5-ee69b02c988b"
      },
      "outputs": [
        {
          "output_type": "stream",
          "name": "stdout",
          "text": [
            "Accuracy on test data (%) : 95.62\n"
          ]
        }
      ],
      "source": [
        "print(\"Accuracy on test data (%) : \" + str(network.calc_accuracy(test_images, test_labels) * 100))"
      ]
    }
  ],
  "metadata": {
    "colab": {
      "name": "Q1.ipynb",
      "provenance": [],
      "collapsed_sections": []
    },
    "interpreter": {
      "hash": "f336af7d54ba0f0c1daaf2256eb85f31e983e88153daf7a27ef3ea6c724faba4"
    },
    "kernelspec": {
      "display_name": "Python 3 (ipykernel)",
      "language": "python",
      "name": "python3"
    },
    "language_info": {
      "codemirror_mode": {
        "name": "ipython",
        "version": 3
      },
      "file_extension": ".py",
      "mimetype": "text/x-python",
      "name": "python",
      "nbconvert_exporter": "python",
      "pygments_lexer": "ipython3",
      "version": "3.10.0"
    }
  },
  "nbformat": 4,
  "nbformat_minor": 0
}